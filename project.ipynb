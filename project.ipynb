{
 "cells": [
  {
   "cell_type": "code",
   "execution_count": 104,
   "id": "c6414138",
   "metadata": {
    "scrolled": true
   },
   "outputs": [
    {
     "name": "stderr",
     "output_type": "stream",
     "text": [
      "WARNING:root:Missing Data: 14 rows removed from StandardDataset.\n",
      "WARNING:root:[1.0] listed but not observed for feature PERP_RACE\n"
     ]
    }
   ],
   "source": [
    "import pandas as pd\n",
    "from aif360.datasets import StandardDataset\n",
    "from aif360.algorithms.preprocessing import DisparateImpactRemover\n",
    "\n",
    "df = pd.read_csv(\"NYPD_Shooting_Incident_Data__Year_To_Date_.csv\")\n",
    "\n",
    "sensitive_attribute = 'PERP_RACE'\n",
    "privileged_groups = [{sensitive_attribute: 1}]\n",
    "unprivileged_groups = [{sensitive_attribute: 0}]\n",
    "s\n",
    "dependent_variable = 'STATISTICAL_MURDER_FLAG'\n",
    "\n",
    "metadata = {\n",
    "    'label_names': [dependent_variable],\n",
    "    'protected_attribute_names': [sensitive_attribute],\n",
    "    'privileged_groups': privileged_groups,\n",
    "    'unprivileged_groups': unprivileged_groups,\n",
    "    'default': {\n",
    "        'favorable_label': 'INJURED',\n",
    "        'unfavorable_label': 'NOT INJURED'\n",
    "    }\n",
    "}\n",
    "dataset = StandardDataset(df, label_name=dependent_variable, favorable_classes=['INJURED'], \n",
    "                          protected_attribute_names=[sensitive_attribute], privileged_classes=[[1]], categorical_features=['OCCUR_DATE', 'OCCUR_TIME', 'BORO','LOC_OF_OCCUR_DESC', 'LOC_CLASSFCTN_DESC', 'LOCATION_DESC', 'PERP_AGE_GROUP', 'PERP_SEX', 'VIC_AGE_GROUP', 'VIC_SEX', 'VIC_RACE', 'New Georeferenced Column'])\n",
    "di_remover = DisparateImpactRemover()\n",
    "dataset_transformed = di_remover.fit_transform(dataset)\n",
    "dataset_transformed\n",
    "# df = dataset_transformed.convert_to_dataframe()\n",
    "\n"
   ]
  },
  {
   "cell_type": "code",
   "execution_count": null,
   "id": "a76e393d",
   "metadata": {},
   "outputs": [],
   "source": []
  }
 ],
 "metadata": {
  "kernelspec": {
   "display_name": "Python 3 (ipykernel)",
   "language": "python",
   "name": "python3"
  },
  "language_info": {
   "codemirror_mode": {
    "name": "ipython",
    "version": 3
   },
   "file_extension": ".py",
   "mimetype": "text/x-python",
   "name": "python",
   "nbconvert_exporter": "python",
   "pygments_lexer": "ipython3",
   "version": "3.8.4rc1"
  }
 },
 "nbformat": 4,
 "nbformat_minor": 5
}
